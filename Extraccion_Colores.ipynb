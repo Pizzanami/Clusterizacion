{
 "cells": [
  {
   "cell_type": "markdown",
   "source": [
    "# Clusterización: Extracción de Colores Predominantes en Imágenes\n",
    "### Itzanami Berlanga Contreras | 07 de Abril del 2024"
   ],
   "metadata": {
    "collapsed": false
   },
   "id": "fbfcb3fcceb4872c"
  },
  {
   "cell_type": "markdown",
   "source": [],
   "metadata": {
    "collapsed": false
   },
   "id": "7267373053ee2a3f"
  },
  {
   "cell_type": "code",
   "execution_count": null,
   "outputs": [],
   "source": [
    "import matplotlib.pyplot as plt\n",
    "import numpy as np\n",
    "import random \n",
    "import math\n",
    "from skimage import io\n",
    "from scipy.stats import norm, multivariate_normal"
   ],
   "metadata": {
    "collapsed": false
   },
   "id": "bd582525eef70cf0"
  },
  {
   "cell_type": "markdown",
   "source": [
    "## Carga de la Imagenes"
   ],
   "metadata": {
    "collapsed": false
   },
   "id": "a3451d1d722e6a73"
  },
  {
   "cell_type": "code",
   "execution_count": null,
   "outputs": [],
   "source": [
    "image=io.imread(\"Rana_100x100.jpg\")/255.0  # imread lee las imagenes con los pixeles codificados como enteros, dividimos entre 255 para escalarlos de 0 a 1\n",
    "\n",
    "# Como en este caso solo nos interesa la diferencia en el color y no las coordenadas del pixel, convertimos la matriz en un arreglo de colores:\n",
    "colors_image = np.asarray(image)\n",
    "print(colors_image)\n",
    "color_array = np.reshape(colors_image, (10000, 3))\n",
    "print(color_array)\n",
    "print(color_array.shape[1])\n",
    "print(\"- Dimensiones de la imagen:\")\n",
    "print(image.shape)\n",
    "plt.axis('off')\n",
    "plt.imshow(image)"
   ],
   "metadata": {
    "collapsed": false
   },
   "id": "e3dd3fa558e22bc5"
  },
  {
   "cell_type": "markdown",
   "source": [],
   "metadata": {
    "collapsed": false
   },
   "id": "9a1460c9db80c962"
  },
  {
   "cell_type": "markdown",
   "source": [
    "## Gaussian Mixture Model\n",
    "\n",
    "El algoritmo funciona de la siguiente manera\n",
    "\n",
    "Expectation Step\n",
    "Distribución Normal\n",
    "$$\\mathcal{N} (\\mathbf{x} | \\mu, \\Sigma) = \\frac{1}{(2\\pi)^{D/2} |\\Sigma|^{1/2}}\\exp\\left( -\\frac{1}{2}(\\mathbf{x} - \\mu)^{T} \\Sigma^{-1}(\\mathbf{x} - \\mu)\\right)$$\n",
    "\n",
    "Maximization step\n",
    "\n",
    "$$ \\mu_k = \\frac{\\sum_{n=1}^{N} \\gamma(z_{nk})\\mathbf{x}}{\\sum_{n=1}^{N} \\gamma(z_{nk})}$$\n"
   ],
   "metadata": {
    "collapsed": false
   },
   "id": "96c895ca55a70bc9"
  },
  {
   "cell_type": "code",
   "execution_count": null,
   "outputs": [],
   "source": [
    "class GMM:\n",
    "    def __init__(self, k_clusters = 3, tol = 1e-4):\n",
    "        self.k = k_clusters\n",
    "        self.means = None\n",
    "        self.cov = None\n",
    "        self.mix_prob = None\n",
    "        self.tol = tol\n",
    "        self.dim = None\n",
    "        self.resp = None\n",
    "        \n",
    "    def cluster(self, X):\n",
    "        self.dim = int(X[1].shape[0])\n",
    "        print(self.dim)\n",
    "        # Inicializamos las medias random, las inicializamos entre 0-1 que es donde se encuentran nuestros valores\n",
    "        self.means = np.random.random((self.k, self.dim))\n",
    "        # Al inicio inicializamos las probabilidades iguales para todos los clusters\n",
    "        self.mix_prob = np.ones(self.k)/self.k          \n",
    "        # Matriz de covarianzas\n",
    "        aux = np.random.rand(self.k, self.k)\n",
    "        self.cov = np.tril(aux) + np.tril(aux, -1).T\n",
    "        logv = 0\n",
    "        logv_ant = 10\n",
    "        #while self.tol > logv_ant - logv:\n",
    "        for i in range(1000):\n",
    "            # E-step\n",
    "            # Calcular las responsabilidades gamma usando los parámetros actuales\n",
    "            self.resp = np.zeros((self.dim, self.k))\n",
    "            for j in range(len(X)):\n",
    "                self.resp[j] = self.__gamma(X[j])\n",
    "            # M-step\n",
    "            # Actualización de parámetros\n",
    "            # Primero se actualizan las medias\n",
    "            for j in range(self.k):\n",
    "                mult = (np.array(self.resp[:,j]) * np.array(X).T).T\n",
    "                num = mult.sum(axis=0)\n",
    "                #num = np.sum(np.multiply(gamma[ :,j], X))\n",
    "                den = np.sum(self.resp[:,j])\n",
    "                self.means[j] = np.divide(num, den)\n",
    "            # Después actualizamos la matriz de covarianza\n",
    "            for j in range(self.k):\n",
    "                resta = X - self.means[j]\n",
    "                mult = np.array(self.resp[:,j])*(resta*resta.T)\n",
    "                num = mult.sum(axis=0)\n",
    "                den = np.sum(self.resp[:,j])\n",
    "                self.cov[j] = np.divide(num, den)\n",
    "            # Finalmente actualizamos las probabilidades de mezcla\n",
    "            for j in range(self.k):\n",
    "                self.mix_prob[j] = np.sum(self.resp[:,j])/len(X)\n",
    "            # Calculamos la log-verosimilitud para comprobar convergencia\n",
    "            logv_ant = logv\n",
    "            logv = 0\n",
    "            for k in range(len(X)):\n",
    "                aux = 0\n",
    "                for j in range(self.k):\n",
    "                    aux += self.mix_prob[j]*multivariate_normal(self.means[j], self.cov[j]).pdf(X)\n",
    "                logv += math.log(aux)\n",
    "                \n",
    "    def __gamma(self, x):\n",
    "        gd = np.zeros(self.k)\n",
    "        for i in range(self.k):\n",
    "            gd[i] = multivariate_normal(self.means[i], self.cov[i]).pdf(x)\n",
    "        prod = np.multiply(gd, self.mix_prob)\n",
    "        denom = np.sum(prod)\n",
    "        return np.divide(gd, denom)\n",
    "    \n",
    "    #def __actualizar_medias(self):\n",
    "        \n",
    "        \n",
    "    def clusters(self):\n",
    "        return self.means"
   ],
   "metadata": {
    "collapsed": false
   },
   "id": "d0c1c161db5150cf"
  },
  {
   "cell_type": "code",
   "execution_count": null,
   "outputs": [],
   "source": [
    "clust = GMM(5)\n",
    "clust.cluster(color_array)\n",
    "paleta = clust.clusters()\n",
    "print(paleta*255.0)\n",
    "paleta = np.array(paleta)[np.newaxis, :, :]\n",
    "fig, axis = plt.subplots(2, gridspec_kw={'height_ratios': [4, 1]})\n",
    "axis[1].imshow(paleta)\n",
    "axis[1].axis('off')\n",
    "axis[0].imshow(image)\n",
    "axis[0].axis('off')\n",
    "fig.suptitle(\"Imagen y su paleta de colores\")\n",
    "plt.show()"
   ],
   "metadata": {
    "collapsed": false
   },
   "id": "274f7fac4717cc4d"
  }
 ],
 "metadata": {
  "kernelspec": {
   "display_name": "Python 3",
   "language": "python",
   "name": "python3"
  },
  "language_info": {
   "codemirror_mode": {
    "name": "ipython",
    "version": 2
   },
   "file_extension": ".py",
   "mimetype": "text/x-python",
   "name": "python",
   "nbconvert_exporter": "python",
   "pygments_lexer": "ipython2",
   "version": "2.7.6"
  }
 },
 "nbformat": 4,
 "nbformat_minor": 5
}
